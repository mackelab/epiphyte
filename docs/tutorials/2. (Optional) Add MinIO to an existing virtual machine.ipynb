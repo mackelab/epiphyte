{
 "cells": [
  {
   "cell_type": "markdown",
   "id": "47d600bd",
   "metadata": {},
   "source": [
    "# Tutorial 2: Add MinIO to an existing VM (optional)"
   ]
  },
  {
   "cell_type": "markdown",
   "id": "2d781195",
   "metadata": {},
   "source": [
    "### **Requirements:** a VM running your MySQL database (tutorial 1 complete)."
   ]
  },
  {
   "cell_type": "markdown",
   "id": "bb8b6649",
   "metadata": {},
   "source": [
    "In this tutorial we'll cover how to launch MinIO from an existing VM (which was configured in the previous tutorial). \n",
    "\n",
    "MinIO is an object storage server useful for storing large files. If all of your data files are small (roughly <10 MB), you can store everything directly in the MySQL database and skip this part. If you need to access larger files (and have the storage for them), then this tutorial is for you.\n",
    "\n",
    "-----------------------"
   ]
  },
  {
   "cell_type": "markdown",
   "id": "b1f512d6",
   "metadata": {},
   "source": [
    "## 1. Create the `minio` directory"
   ]
  },
  {
   "cell_type": "markdown",
   "id": "e203e921",
   "metadata": {},
   "source": [
    "First, create a directory on your VM where you'll store your bulky data (we'll assume that the folder is called `minio`). "
   ]
  },
  {
   "cell_type": "markdown",
   "id": "20f01738",
   "metadata": {},
   "source": [
    "<pre style=\"background-color: #1E1E1E; color: white; padding: 10px; border-radius: 5px; border-left: 5px solid #007bff;\">\n",
    "sudo mkdir minio\n",
    "</pre>"
   ]
  },
  {
   "cell_type": "markdown",
   "id": "71cbc958",
   "metadata": {},
   "source": [
    "You might have to update permissions to use this folder:"
   ]
  },
  {
   "cell_type": "markdown",
   "id": "e3488ac2",
   "metadata": {},
   "source": [
    "<pre style=\"background-color: #1E1E1E; color: white; padding: 10px; border-radius: 5px; border-left: 5px solid #007bff;\">\n",
    "sudo chown ubuntu: minio\n",
    "</pre>"
   ]
  },
  {
   "cell_type": "markdown",
   "id": "3936de1d",
   "metadata": {},
   "source": [
    "## 2. Mount your external volume"
   ]
  },
  {
   "cell_type": "markdown",
   "id": "a8fe79ee",
   "metadata": {},
   "source": [
    "The specifics here will vary based on your setup. We'll cover some general steps, but if you're part of an organization, you should probably reach out to a system admin.\n",
    "\n",
    "If you don't have enough storage on the VM itself and are attaching an extra storage volume, then attach the volume to the `minio` folder you just made (e.g. via your cloud computing platform, such as OpenStack, or by plugging in an external hard drive and making sure it's recognized on the VM). Run `lsblk` or `df -h` to list all devices and check that it is attached (it will probably look something like `/dev/sdb1`). \n",
    "\n",
    "If the volume is new and has no data on it, then you will need to format it before using it. Follow the steps [in this tutorial](https://www.digitalocean.com/community/tutorials/how-to-partition-and-format-storage-devices-in-linux) to format your new volume. To automatically mount the new volume when booting your VM, also follow the steps regarding adding an entry to your `/etc/fstab` file. \n",
    "\n",
    "You may have to edit permissions in order to work with data and directories on your new volume:"
   ]
  },
  {
   "cell_type": "markdown",
   "id": "f0bddcc1",
   "metadata": {},
   "source": [
    "<pre style=\"background-color: #1E1E1E; color: white; padding: 10px; border-radius: 5px; border-left: 5px solid #007bff;\">\n",
    "sudo chown -R ubuntu: minio\n",
    "sudo chmod -R 775 minio\n",
    "</pre>"
   ]
  },
  {
   "cell_type": "markdown",
   "id": "5ddeb678",
   "metadata": {},
   "source": [
    "## 3. Launch the MinIO server"
   ]
  },
  {
   "cell_type": "markdown",
   "id": "0e5621fe",
   "metadata": {},
   "source": [
    "The MinIO server is the core component that provides object storage capabilities. In other words, in this step we'll set up the storage backend that will hold your data.\n",
    "\n",
    "We'll make a new terminal session using tmux, a terminal multiplexer (which is a fancy way of saying that it opens terminal sessions which you can attach to or detatch from). We'll launch our MinIO service from this terminal. This ensures that MinIO will keep running even if you disconnect from the server or your network connection is interrupted. \n",
    "\n",
    "Let's create a new terminal session and name it `minio`:"
   ]
  },
  {
   "cell_type": "markdown",
   "id": "7a8db3ca",
   "metadata": {},
   "source": [
    "<pre style=\"background-color: #1E1E1E; color: white; padding: 10px; border-radius: 5px; border-left: 5px solid #007bff;\">\n",
    "tmux new -s minio\n",
    "</pre>"
   ]
  },
  {
   "cell_type": "markdown",
   "id": "a64e03fa",
   "metadata": {},
   "source": [
    "Now you're in your new tmux terminal. \n",
    "\n",
    "(You can detach from the tmux session and return to your normal terminal by pressing `Ctrl+B D`. You can later reattach to the session using the command `tmux attach -t minio`.)"
   ]
  },
  {
   "cell_type": "markdown",
   "id": "25882859",
   "metadata": {},
   "source": [
    "Now we'll launch our MinIO server container using Docker. The command below maps ports 9000 and 9001 from the host to the container for server and console access, mounts the host `minio` directory as a volume for data storage, and sets up root access credentials for the server. **Enter a password of your choosing.**"
   ]
  },
  {
   "cell_type": "markdown",
   "id": "d9530b32",
   "metadata": {},
   "source": [
    "<pre style=\"background-color: #1E1E1E; color: white; padding: 10px; border-radius: 5px; border-left: 5px solid #007bff;\">\n",
    "sudo docker run -p 9000:9000 -p 9001:9001 --name minio -v ~/minio:/data -e \"MINIO_ROOT_USER=root\" -e \"MINIO_ROOT_PASSWORD=&lt;password&gt;\" quay.io/minio/minio:RELEASE.2021-10-23T03-28-24Z server /data -console-address \":9001\"\n",
    "</pre>"
   ]
  },
  {
   "cell_type": "markdown",
   "id": "a537d0ae",
   "metadata": {},
   "source": [
    "You should now be able to access your MinIO console via a web browser at `http://<your.ip>:9001` (you can find your IP from a terminal on the server via `hostname -I`). From here you can create new users and grant them the necessary privileges to access and store data on MinIO. "
   ]
  },
  {
   "cell_type": "markdown",
   "id": "fadfb4b3",
   "metadata": {},
   "source": [
    "## 4. Launch the MinIO client"
   ]
  },
  {
   "cell_type": "markdown",
   "id": "ef3aa424",
   "metadata": {},
   "source": [
    "The MinIO Client (`mc`) is a command-line tool designed to interact with the MinIO server. Although we recommend doing user management from the GUI at the link mentioned above (`http://<your.ip>:9001`), installing `mc` may prove useful for performing certain operations, especially if you prefer working via the command line (and either way, it certainly won't hurt to have it installed).\n",
    "\n",
    "Let's first split the current terminal pane vertically: `Ctrl+B Shift+%`"
   ]
  },
  {
   "cell_type": "markdown",
   "id": "28a691e8",
   "metadata": {},
   "source": [
    "Now, from our new pane, we'll launch the MinIO client:"
   ]
  },
  {
   "cell_type": "markdown",
   "id": "c63aefdb",
   "metadata": {},
   "source": [
    "<pre style=\"background-color: #1E1E1E; color: white; padding: 10px; border-radius: 5px; border-left: 5px solid #007bff;\">\n",
    "sudo docker run --name minio1_client --net=host -it -v ~/minio:/data --entrypoint=/bin/sh minio/mc\n",
    "</pre>"
   ]
  },
  {
   "cell_type": "markdown",
   "id": "87e7eebf",
   "metadata": {},
   "source": [
    "The above command binds the local directory `~/minio` to the `/data` directory inside the container. "
   ]
  },
  {
   "cell_type": "markdown",
   "id": "2cdbf699",
   "metadata": {},
   "source": [
    "Now we'll tell the MinIO client to remember our new MinIO server and make it accesible via browser. **Enter your password of choice.**  "
   ]
  },
  {
   "cell_type": "markdown",
   "id": "ab46dbd0",
   "metadata": {},
   "source": [
    "<pre style=\"background-color: #1E1E1E; color: white; padding: 10px; border-radius: 5px; border-left: 5px solid #007bff;\">\n",
    "mc config host add minio http://127.0.0.1:9001 root \"&lt;password&gt;\"\n",
    "</pre>"
   ]
  },
  {
   "cell_type": "markdown",
   "id": "ec849818",
   "metadata": {},
   "source": [
    "Now you're ready to store data on MinIO!\n",
    "\n",
    "In tutorial 5 we'll cover how to populate MinIO with your bulky data."
   ]
  }
 ],
 "metadata": {
  "kernelspec": {
   "display_name": "Python 3 (ipykernel)",
   "language": "python",
   "name": "python3"
  },
  "language_info": {
   "codemirror_mode": {
    "name": "ipython",
    "version": 3
   },
   "file_extension": ".py",
   "mimetype": "text/x-python",
   "name": "python",
   "nbconvert_exporter": "python",
   "pygments_lexer": "ipython3",
   "version": "3.8.10"
  }
 },
 "nbformat": 4,
 "nbformat_minor": 5
}
