{
 "cells": [
  {
   "cell_type": "markdown",
   "id": "445290b6",
   "metadata": {},
   "source": [
    "# Tutorial: Launch the MySQL database on a virtual machine"
   ]
  },
  {
   "cell_type": "markdown",
   "id": "e2b09b4f",
   "metadata": {},
   "source": [
    "### **Requirements:** \n",
    "\n",
    "* a VM running Ubuntu on your hardware of choice."
   ]
  },
  {
   "cell_type": "markdown",
   "id": "4c6b9375",
   "metadata": {},
   "source": [
    "In this tutorial we'll cover how to launch the MySQL database, which will store, retrieve, and manage all (or most) of your data based on the commands and queries issued through DataJoint (covered in later tutorials).\n",
    "\n",
    "We'll launch the database on a virtual machine (VM). There are many ways to set up a VM, depending on the hardware you'll be using. We launched Epiphyte on a university cluster which has its own specific methodology for launching VMs. We won't go into the details here, as they won't be relevant to most people. \n",
    "\n",
    "We recommend getting in touch with your system administrator to first set up a VM on your organization's hardware, or if you're doing it yourself from a local computer, to follow tutorials such as [this one by freeCodeCamp](https://www.freecodecamp.org/news/what-is-a-virtual-machine-and-how-to-setup-a-vm-on-windows-linux-and-mac/). We used [Ubuntu Focal (20.04.2 LTS)](http://old-releases.ubuntu.com/releases/20.04.2/) for the operating system (OS), and the instructions below assume you are working from a Linux terminal. If your VM is running on another server, you should be able to access it with a command such as `ssh -i /path/to/.ssh/<id_rsa.pub> <os>@<ip>`.\n",
    "\n",
    "Whether you're working with a VM set up locally or on a remote server, be sure to allow admin access to anyone who will be managing the database by adding their public SSH keys to the VM  (the folder will be something like `~/.ssh/authorized_keys`, and you might need to first create the folder if it's not already present). \n",
    "\n",
    "We received feedback that users setting up their own VM locally ran into an issue regarding EFI Secure Boot and signing the kernel modules. Their proposed fix ([source](https://superuser.com/questions/1438279/how-to-sign-a-kernel-module-ubuntu-18-04)):\n",
    "\n",
    "`sudo apt install --reinstall virtualbox-dkms` \n",
    "\n",
    "-----------"
   ]
  },
  {
   "cell_type": "markdown",
   "id": "4707c064",
   "metadata": {},
   "source": [
    "## 1. Configure the VM"
   ]
  },
  {
   "cell_type": "markdown",
   "id": "0e363f47",
   "metadata": {},
   "source": [
    "First, enable `sudo` for your user (e.g. `ubuntu` if you installed an Ubuntu OS). **You will need to set a password.** Run the commands below from a terminal on your VM:"
   ]
  },
  {
   "cell_type": "markdown",
   "id": "449c4b7f",
   "metadata": {},
   "source": [
    "<pre style=\"background-color: #1E1E1E; color: white; padding: 10px; border-radius: 5px; border-left: 5px solid #007bff;\">\n",
    "sudo -i\n",
    "sudo passwd ubuntu\n",
    "&lt;password&gt;\n",
    "</pre>"
   ]
  },
  {
   "cell_type": "markdown",
   "id": "54c1e17d",
   "metadata": {},
   "source": [
    "Don't allow `sudo` without password:"
   ]
  },
  {
   "cell_type": "markdown",
   "id": "b50a3078",
   "metadata": {},
   "source": [
    "<pre style=\"background-color: #1E1E1E; color: white; padding: 10px; border-radius: 5px; border-left: 5px solid #007bff;\">\n",
    "sudo -s\n",
    "cd /etc/sudoers.d\n",
    "nano 90-cloud-init-users\n",
    "</pre>"
   ]
  },
  {
   "cell_type": "markdown",
   "id": "bd5bec71",
   "metadata": {},
   "source": [
    "Remove `NOPASSWD` from the file and save it (`NOPASSWD:ALL` becomes just `ALL`)."
   ]
  },
  {
   "cell_type": "markdown",
   "id": "67f4c4c3",
   "metadata": {},
   "source": [
    "Unfortunately, it is highly likely that someone somewhere will try to break into your server using brute force attacks. That's why we'll add security with Fail2Ban, which bans IP addresses conducting too many failed login attempts. "
   ]
  },
  {
   "cell_type": "markdown",
   "id": "26b8d55b",
   "metadata": {},
   "source": [
    "<pre style=\"background-color: #1E1E1E; color: white; padding: 10px; border-radius: 5px; border-left: 5px solid #007bff;\">\n",
    "sudo apt-get update\n",
    "sudo apt-get install fail2ban\n",
    "</pre>"
   ]
  },
  {
   "cell_type": "markdown",
   "id": "a83ad1ab",
   "metadata": {},
   "source": [
    "You can edit the default settings at `sudo nano /etc/fail2ban/jail.local.save` (such as \"bantime\", the time a host is banned, or \"maxretry\", the number of failures before getting banned)."
   ]
  },
  {
   "cell_type": "markdown",
   "id": "d70f7b24",
   "metadata": {},
   "source": [
    "Now we'll open the ports we'll use for SSH (port 22), MySQL (port 3306), and MinIO (port 9000, **optional**). We'll activate the Linux firewall, `ufw`, to enforce these changes."
   ]
  },
  {
   "cell_type": "markdown",
   "id": "dd88cb62",
   "metadata": {},
   "source": [
    "<pre style=\"background-color: #1E1E1E; color: white; padding: 10px; border-radius: 5px; border-left: 5px solid #007bff;\">\n",
    "sudo ufw allow 22 \n",
    "sudo ufw allow 3306 \n",
    "sudo ufw allow 9000  # optional, if using MinIO\n",
    "sudo ufw enable\n",
    "</pre>"
   ]
  },
  {
   "cell_type": "markdown",
   "id": "9a8481fd",
   "metadata": {},
   "source": [
    "## 2. Install Docker and Docker Compose"
   ]
  },
  {
   "cell_type": "markdown",
   "id": "875879e4",
   "metadata": {},
   "source": [
    "The next step is to [install Docker](https://docs.docker.com/get-docker/) for Linux.\n",
    "\n",
    "Verify your Docker installation:"
   ]
  },
  {
   "cell_type": "markdown",
   "id": "bb9bee4a",
   "metadata": {},
   "source": [
    "<pre style=\"background-color: #1E1E1E; color: white; padding: 10px; border-radius: 5px; border-left: 5px solid #007bff;\">\n",
    "docker --version\n",
    "docker run hello-world\n",
    "</pre>"
   ]
  },
  {
   "cell_type": "markdown",
   "id": "b2287744",
   "metadata": {},
   "source": [
    "Next, [install Docker Compose](https://docs.docker.com/compose/install/).\n",
    "\n",
    "Verify the Docker Compose installation:"
   ]
  },
  {
   "cell_type": "markdown",
   "id": "2d431cc9",
   "metadata": {},
   "source": [
    "<pre style=\"background-color: #1E1E1E; color: white; padding: 10px; border-radius: 5px; border-left: 5px solid #007bff;\">\n",
    "docker-compose --version\n",
    "</pre>"
   ]
  },
  {
   "cell_type": "markdown",
   "id": "b08eaa76",
   "metadata": {},
   "source": [
    "## 3. Install the MySQL client "
   ]
  },
  {
   "cell_type": "markdown",
   "id": "6aac3d09",
   "metadata": {},
   "source": [
    "<pre style=\"background-color: #1E1E1E; color: white; padding: 10px; border-radius: 5px; border-left: 5px solid #007bff;\">\n",
    "sudo apt-get install mysql-client\n",
    "</pre>"
   ]
  },
  {
   "cell_type": "markdown",
   "id": "5ce3aa58",
   "metadata": {},
   "source": [
    "## 4. Set up your Docker environment "
   ]
  },
  {
   "cell_type": "markdown",
   "id": "1a04d2e5",
   "metadata": {},
   "source": [
    "Create the directory where your Docker container will run (the folder names below are examples and can be changed, just be consistent with your new name in later steps)."
   ]
  },
  {
   "cell_type": "markdown",
   "id": "5def52cb",
   "metadata": {},
   "source": [
    "<pre style=\"background-color: #1E1E1E; color: white; padding: 10px; border-radius: 5px; border-left: 5px solid #007bff;\">\n",
    "sudo mkdir ~/mysql/mysql-docker\n",
    "sudo chown &lt;user&gt;: ~/mysql/mysql-docker\n",
    "</pre>"
   ]
  },
  {
   "cell_type": "markdown",
   "id": "38ae8214",
   "metadata": {},
   "source": [
    "Download the files [from here](https://github.com/mackelab/epiphyte/tree/master/docs/tutorials/docker%20files) and place them in your new folder `~/mysql/mysql-docker` (we use a modified version of the Docker container [provided by DataJoint](https://github.com/datajoint/mysql-docker)).\n",
    "\n",
    "**Choose a password for both MySQL and MinIO (optional).**"
   ]
  },
  {
   "cell_type": "markdown",
   "id": "e8dd9c2e",
   "metadata": {},
   "source": [
    "<pre style=\"background-color: #1E1E1E; color: white; padding: 10px; border-radius: 5px; border-left: 5px solid #007bff;\">\n",
    "sudo nano datajoint.env.example\n",
    "</pre>"
   ]
  },
  {
   "cell_type": "markdown",
   "id": "4e7e1e88",
   "metadata": {},
   "source": [
    "Insert your password, `MYSQL_ROOT_PASSWORD=<password>`, and rename the file to `datajoint.env`."
   ]
  },
  {
   "cell_type": "markdown",
   "id": "8a0df2cd",
   "metadata": {},
   "source": [
    "<pre style=\"background-color: #1E1E1E; color: white; padding: 10px; border-radius: 5px; border-left: 5px solid #007bff;\">\n",
    "mv datajoint.env.example datajoint.env\n",
    "</pre>"
   ]
  },
  {
   "cell_type": "markdown",
   "id": "b4b4251e",
   "metadata": {},
   "source": [
    "Do the same for the MinIO file (if using):"
   ]
  },
  {
   "cell_type": "markdown",
   "id": "eb9739db",
   "metadata": {},
   "source": [
    "<pre style=\"background-color: #1E1E1E; color: white; padding: 10px; border-radius: 5px; border-left: 5px solid #007bff;\">\n",
    "sudo nano minio.env.example\n",
    "</pre>"
   ]
  },
  {
   "cell_type": "markdown",
   "id": "610a9f6d",
   "metadata": {},
   "source": [
    "Set `MINIO_ROOT_USER=root` and insert your password of choice, `MINIO_ROOT_PASSWORD=<password>`. Rename this file, too."
   ]
  },
  {
   "cell_type": "markdown",
   "id": "adc39cdc",
   "metadata": {},
   "source": [
    "<pre style=\"background-color: #1E1E1E; color: white; padding: 10px; border-radius: 5px; border-left: 5px solid #007bff;\">\n",
    "mv minio.env.example minio.env\n",
    "</pre>"
   ]
  },
  {
   "cell_type": "markdown",
   "id": "59de38f9",
   "metadata": {},
   "source": [
    "Edit directories as needed in `docker-compose.yaml` (relevant lines are marked in the file):"
   ]
  },
  {
   "cell_type": "markdown",
   "id": "b5c1c4cc",
   "metadata": {},
   "source": [
    "<pre style=\"background-color: #1E1E1E; color: white; padding: 10px; border-radius: 5px; border-left: 5px solid #007bff;\">\n",
    "sudo nano docker-compose.yaml\n",
    "</pre>"
   ]
  },
  {
   "cell_type": "markdown",
   "id": "b0961b31",
   "metadata": {},
   "source": [
    "## 5. Launch the containers for MySQL and MinIO"
   ]
  },
  {
   "cell_type": "markdown",
   "id": "e813741a",
   "metadata": {},
   "source": [
    "<pre style=\"background-color: #1E1E1E; color: white; padding: 10px; border-radius: 5px; border-left: 5px solid #007bff;\">\n",
    "sudo docker-compose up -d\n",
    "</pre>"
   ]
  },
  {
   "cell_type": "markdown",
   "id": "3cdb4982",
   "metadata": {},
   "source": [
    "You can now log into your MySQL database! Exciting, but before we log in we still have a few steps to make our new database more secure. We'll start by attaching to our now-running Docker container:"
   ]
  },
  {
   "cell_type": "markdown",
   "id": "a00d6cc9",
   "metadata": {},
   "source": [
    "<pre style=\"background-color: #1E1E1E; color: white; padding: 10px; border-radius: 5px; border-left: 5px solid #007bff;\">\n",
    "sudo docker-compose exec &lt;container name&gt; bash\n",
    "</pre>"
   ]
  },
  {
   "cell_type": "markdown",
   "id": "c0bcd20a",
   "metadata": {},
   "source": [
    "Now run the following command and follow the prompts to add essential security measures to your MySQL installation:"
   ]
  },
  {
   "cell_type": "markdown",
   "id": "9f2b89b9",
   "metadata": {},
   "source": [
    "<pre style=\"background-color: #1E1E1E; color: white; padding: 10px; border-radius: 5px; border-left: 5px solid #007bff;\">\n",
    "mysql_secure_installation\n",
    "</pre>"
   ]
  },
  {
   "cell_type": "markdown",
   "id": "cd16558c",
   "metadata": {},
   "source": [
    "And again install Fail2Ban:"
   ]
  },
  {
   "cell_type": "markdown",
   "id": "9e33b910",
   "metadata": {},
   "source": [
    "<pre style=\"background-color: #1E1E1E; color: white; padding: 10px; border-radius: 5px; border-left: 5px solid #007bff;\">\n",
    "sudo apt-get update\n",
    "sudo apt-get install fail2ban\n",
    "</pre>"
   ]
  },
  {
   "cell_type": "markdown",
   "id": "2922c3f3",
   "metadata": {},
   "source": [
    "## 6. Create user accounts"
   ]
  },
  {
   "cell_type": "markdown",
   "id": "5d1d2325",
   "metadata": {},
   "source": [
    "Now for the fun part&mdash;we can finally log into our new MySQL database!"
   ]
  },
  {
   "cell_type": "markdown",
   "id": "9561610e",
   "metadata": {},
   "source": [
    "<pre style=\"background-color: #1E1E1E; color: white; padding: 10px; border-radius: 5px; border-left: 5px solid #007bff;\">\n",
    "mysql -h 127.0.0.1 -u root -p\n",
    "</pre>"
   ]
  },
  {
   "cell_type": "markdown",
   "id": "7ccd4920",
   "metadata": {},
   "source": [
    "Now you should be operating from a MySQL shell as the root user. Create new user accounts for the people you want to give access to:"
   ]
  },
  {
   "cell_type": "markdown",
   "id": "92fc2847",
   "metadata": {},
   "source": [
    "<pre style=\"background-color: #1E1E1E; color: white; padding: 10px; border-radius: 5px; border-left: 5px solid #007bff;\">\n",
    "CREATE USER '&lt;username&gt;'@'%' IDENTIFIED BY '&lt;password&gt;;\n",
    "GRANT ALL PRIVILEGES ON `&lt;username&gt;\\_%`.* TO '&lt;username&gt;'@'%';\n",
    "</pre>"
   ]
  }
 ],
 "metadata": {
  "kernelspec": {
   "display_name": "Python 3 (ipykernel)",
   "language": "python",
   "name": "python3"
  },
  "language_info": {
   "codemirror_mode": {
    "name": "ipython",
    "version": 3
   },
   "file_extension": ".py",
   "mimetype": "text/x-python",
   "name": "python",
   "nbconvert_exporter": "python",
   "pygments_lexer": "ipython3",
   "version": "3.8.10"
  }
 },
 "nbformat": 4,
 "nbformat_minor": 5
}
