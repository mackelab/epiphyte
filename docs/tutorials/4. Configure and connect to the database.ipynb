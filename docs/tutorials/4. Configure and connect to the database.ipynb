{
 "cells": [
  {
   "cell_type": "markdown",
   "id": "bb4fe12e",
   "metadata": {},
   "source": [
    "# Tutorial: Configure and connect to the database"
   ]
  },
  {
   "cell_type": "markdown",
   "id": "c2673cd1",
   "metadata": {},
   "source": [
    "### **Requirements:** \n",
    "\n",
    "* completed tutorials 1-3."
   ]
  },
  {
   "cell_type": "markdown",
   "id": "a5fa0409",
   "metadata": {},
   "source": [
    "This notebook outlines the steps to configure database settings and connect to the MySQL database (hosted either on your local machine, or on a remote virtual machine).\n",
    "\n",
    "-----------"
   ]
  },
  {
   "cell_type": "markdown",
   "id": "c2be2b24",
   "metadata": {},
   "source": [
    "## 1. Configure access info"
   ]
  },
  {
   "cell_type": "markdown",
   "id": "d168d359",
   "metadata": {},
   "source": [
    "Below is a code snippet containing the pieces that need to be configured in order to instantiate and connect to your database. \n",
    "\n",
    "Before running this code, you will need to change some parameters depending on the set-up you're using (all relevant lines are marked in the code):\n",
    "\n",
    "### Option A:\n",
    "\n",
    "If you are hosting the database via a virtual machine (VM), change the IP to that of your remote machine's. You can find your remote machine's IP by running the following command on that machine's terminal:"
   ]
  },
  {
   "cell_type": "markdown",
   "id": "9fc27558",
   "metadata": {},
   "source": [
    "<pre style=\"background-color: #1E1E1E; color: white; padding: 10px; border-radius: 5px; border-left: 5px solid #007bff;\">\n",
    "hostname -I\n",
    "</pre>"
   ]
  },
  {
   "cell_type": "markdown",
   "id": "62a1ad8d",
   "metadata": {},
   "source": [
    "In case you receive multiple outputs, take the first entry. "
   ]
  },
  {
   "cell_type": "markdown",
   "id": "66d2cef7",
   "metadata": {},
   "source": [
    "### Option B:\n",
    "\n",
    "If you plan to use this set-up at some point for real data with multiple users, you will need to change this line to accomodate the user in question. \n",
    "\n",
    "### Option C:\n",
    "\n",
    "Likewise, if you plan to use this set-up for real data, you will need to change the root password and alter it here. Note: since this requires storing a password in plain text, the safest option is to not include this in the configuration settings for a deployed database. In this case, only include the user name, and each time `dj.conn()` is run, you will be prompted for your password. Annoying, but safe. :)  "
   ]
  },
  {
   "cell_type": "code",
   "execution_count": null,
   "id": "9de76c05",
   "metadata": {},
   "outputs": [],
   "source": [
    "import os\n",
    "import datajoint as dj\n",
    "\n",
    "dj.config['enable_python_native_blobs'] = True\n",
    "dj.config['database.host'] = '127.0.0.1:3306'            # Option A\n",
    "dj.config['database.user'] = 'root'                      # Option B\n",
    "dj.config['database.password'] = 'simple'                # Option C\n",
    "\n",
    "if not 'stores' in dj.config:\n",
    "    dj.config['stores'] = {}\n",
    "\n",
    "epi_schema = dj.schema('epiphyte_mock')\n",
    "\n",
    "dj.conn()"
   ]
  },
  {
   "cell_type": "markdown",
   "id": "4042b0aa",
   "metadata": {},
   "source": [
    "## 2. Configuring storage"
   ]
  },
  {
   "cell_type": "markdown",
   "id": "4ccc7ed7",
   "metadata": {},
   "source": [
    "If you're working locally, run the following cell to configure storage:"
   ]
  },
  {
   "cell_type": "code",
   "execution_count": null,
   "id": "5b6cdd9b",
   "metadata": {},
   "outputs": [],
   "source": [
    "dj.config['stores'] = {\n",
    "    'local': {  # store in files\n",
    "        'protocol': 'file',\n",
    "        'location': os.path.abspath('./dj-store')\n",
    "    }}"
   ]
  },
  {
   "cell_type": "markdown",
   "id": "dd56b176",
   "metadata": {},
   "source": [
    "If you're working with a remote server using MinIO, run the cell below to configure storage. Replace the IP address (Option D) with the same one as above (Option A, i.e., the IP for your remote server running the VM). You'll also need to change the bucket name (Option E) to the one you're using:"
   ]
  },
  {
   "cell_type": "code",
   "execution_count": null,
   "id": "58b023e8",
   "metadata": {},
   "outputs": [],
   "source": [
    "dj.config[\"stores\"][\"minio\"] = {  \n",
    "        \"protocol\": \"s3\",\n",
    "        \"endpoint\": \"127.0.0.1:9000\",  # Option D\n",
    "        \"bucket\": \"<bucket>\",          # Option E\n",
    "        \"location\": \"data\",\n",
    "        \"access_key\": \"root\", \n",
    "        \"secret_key\": \"simple\" \n",
    "    }"
   ]
  },
  {
   "cell_type": "markdown",
   "id": "20bd8f5d",
   "metadata": {},
   "source": [
    "Successful connection will output something like:"
   ]
  },
  {
   "attachments": {
    "image.png": {
     "image/png": "[encoded data removed]"
    }
   },
   "cell_type": "markdown",
   "id": "59163137",
   "metadata": {},
   "source": [
    "![image.png](attachment:image.png)"
   ]
  },
  {
   "cell_type": "markdown",
   "id": "52e95790",
   "metadata": {},
   "source": [
    "This code is already saved in the file `/src/epiphyte/database/access_info.py`, and can be modified to change the connection parameters. \n",
    "\n",
    "Once configured, you can connect by importing the `access_info.py` directly, instead of running the snippet above: "
   ]
  },
  {
   "cell_type": "code",
   "execution_count": null,
   "id": "34fb939a",
   "metadata": {},
   "outputs": [],
   "source": [
    "# set relative import\n",
    "from .database import access_info "
   ]
  },
  {
   "cell_type": "markdown",
   "id": "05c3b77c",
   "metadata": {},
   "source": [
    "## 3. Check the database connection"
   ]
  },
  {
   "cell_type": "markdown",
   "id": "8634b8a5",
   "metadata": {},
   "source": [
    "This following snippet creates an `ERD` diagram, also known as an Entity Relationship Diagram. \n",
    "\n",
    "Before any tables are created, this diagram will be empty, since there are no relationships to visualize. "
   ]
  },
  {
   "cell_type": "code",
   "execution_count": null,
   "id": "6fb938e1",
   "metadata": {},
   "outputs": [],
   "source": [
    "erd = dj.ERD(epi_schema)\n",
    "erd"
   ]
  },
  {
   "cell_type": "markdown",
   "id": "fef86eec",
   "metadata": {},
   "source": [
    "After creating tables, establishing relationships, and defining inheritances between them, you can visualize these entities and their connections using the function `dj.ERD(<schema_name>)`."
   ]
  }
 ],
 "metadata": {
  "kernelspec": {
   "display_name": "Python 3 (ipykernel)",
   "language": "python",
   "name": "python3"
  },
  "language_info": {
   "codemirror_mode": {
    "name": "ipython",
    "version": 3
   },
   "file_extension": ".py",
   "mimetype": "text/x-python",
   "name": "python",
   "nbconvert_exporter": "python",
   "pygments_lexer": "ipython3",
   "version": "3.8.10"
  }
 },
 "nbformat": 4,
 "nbformat_minor": 5
}
