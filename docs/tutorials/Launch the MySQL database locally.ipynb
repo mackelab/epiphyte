{
 "cells": [
  {
   "cell_type": "markdown",
   "id": "445290b6",
   "metadata": {},
   "source": [
    "# Tutorial: Launch the MySQL database locally"
   ]
  },
  {
   "cell_type": "markdown",
   "id": "e2b09b4f",
   "metadata": {},
   "source": [
    "### **Requirements:** \n",
    "* OS: Linux or Mac/OSx\n",
    "* Python 3.5 or higher (either system-level, or in an IDE)\n",
    "* 400 MB free disk space\n",
    "* Permission to perform sudo-level commands"
   ]
  },
  {
   "cell_type": "markdown",
   "id": "4c6b9375",
   "metadata": {},
   "source": [
    "### Installation: \n",
    "\n",
    "The installation of `epiphyte` has three steps: \n",
    "\n",
    "1. Install and set-up the DataJoint docker container. \n",
    "2. Download and launch the DataJoint MySQL server via docker-compose.\n",
    "3. Install `Epiphyte`."
   ]
  },
  {
   "cell_type": "markdown",
   "id": "3691c9c5",
   "metadata": {},
   "source": [
    "### 1. Install and set-up the DataJoint docker container. \n",
    "\n",
    "* Install the correct [Docker](https://docs.docker.com/get-docker/) for your OS.\n",
    "* Verify the Docker installation: \n",
    "<pre style=\"background-color: #1E1E1E; color: white; padding: 10px; border-radius: 5px; border-left: 5px solid #007bff;\">\n",
    "docker --version\n",
    "docker run hello-world\n",
    "</pre>\n",
    "* Install [Docker Compose](https://docs.docker.com/compose/install/).\n",
    "* Verify the Docker Compose installation:\n",
    "<pre style=\"background-color: #1E1E1E; color: white; padding: 10px; border-radius: 5px; border-left: 5px solid #007bff;\">\n",
    "docker-compose --version\n",
    "</pre>"
   ]
  },
  {
   "cell_type": "markdown",
   "id": "17f7d681",
   "metadata": {
    "vscode": {
     "languageId": "plaintext"
    }
   },
   "source": [
    "### 2. Download and launch the DataJoint MySQL server via docker-compose.\n",
    "\n",
    "(Following is taken from [DataJoint documentation](https://github.com/datajoint/mysql-docker).)\n",
    "\n",
    "* Create a directory to store the docker-compose YAML file:\n",
    "<pre style=\"background-color: #1E1E1E; color: white; padding: 10px; border-radius: 5px; border-left: 5px solid #007bff;\">\n",
    "mkdir mysql-docker\n",
    "cd mysql-docker\n",
    "wget https://raw.githubusercontent.com/datajoint/mysql-docker/master/docker-compose.yaml\n",
    "docker-compose up -d\n",
    "</pre>\n",
    "* Download a package that enables access to your locally running MySQL server:\n",
    "\n",
    "> Linux: \n",
    "<pre style=\"background-color: #1E1E1E; color: white; padding: 10px; border-radius: 5px; border-left: 5px solid #007bff;\">\n",
    "sudo apt-get install mysql-client\n",
    "</pre>\n",
    "\n",
    "> Mac (via [Homebrew](https://brew.sh/)): \n",
    "<pre style=\"background-color: #1E1E1E; color: white; padding: 10px; border-radius: 5px; border-left: 5px solid #007bff;\">\n",
    "brew install mysql@5.7\n",
    "brew tap homebrew/services\n",
    "brew services start mysql@5.7\n",
    "brew services list\n",
    "brew link --force mysql@5.7\n",
    "mysql -V # verify the installation\n",
    "</pre>\n",
    "* Test the server access. If there are issues, refer [here](https://github.com/mackelab/Epiphyte/wiki/Troubleshooting).\n",
    "<pre style=\"background-color: #1E1E1E; color: white; padding: 10px; border-radius: 5px; border-left: 5px solid #007bff;\">\n",
    "mysql -h 127.0.0.1 -u root -p\n",
    "Enter password: [type in your password here: default is \"simple\"]\n",
    "</pre>\n"
   ]
  },
  {
   "cell_type": "markdown",
   "id": "8a13f56b",
   "metadata": {},
   "source": [
    "### 3. Install `Epiphyte`:\n",
    "\n",
    "There are two ways to install `epiphyte` -- via `pip` or cloning this repo. \n",
    "\n",
    "Note: certain features of the DataJoint python package have not been updated for more recent releases of Python. Therefore, DataJoint and epiphyte require an older version of Python (<=3.9). For this reason, we recommend using a conda environment to install all needed packages and to develop from. \n",
    "\n",
    "#### Install via `git`\n",
    "\n",
    "* Clone the repository:\n",
    "<pre style=\"background-color: #1E1E1E; color: white; padding: 10px; border-radius: 5px; border-left: 5px solid #007bff;\">\n",
    "git clone git@github.com:mackelab/epiphyte.git\n",
    "cd epiphyte\n",
    "</pre>\n",
    "\n",
    "* Create a new conda environment suitable for the `epiphyte` requirements: \n",
    "<pre style=\"background-color: #1E1E1E; color: white; padding: 10px; border-radius: 5px; border-left: 5px solid #007bff;\">\n",
    "conda create --name epiphyte python=3.9.18 ipython\n",
    "</pre>\n",
    "\n",
    "* Activate the conda environment: \n",
    "<pre style=\"background-color: #1E1E1E; color: white; padding: 10px; border-radius: 5px; border-left: 5px solid #007bff;\">\n",
    "conda activate epiphyte\n",
    "</pre>\n",
    "\n",
    "* Install the needed dependencies using `setup.py`:\n",
    "<pre style=\"background-color: #1E1E1E; color: white; padding: 10px; border-radius: 5px; border-left: 5px solid #007bff;\">\n",
    "pip install .\n",
    "</pre>\n",
    "\n",
    "* Verify the installation:\n",
    "<pre style=\"background-color: #1E1E1E; color: white; padding: 10px; border-radius: 5px; border-left: 5px solid #007bff;\">\n",
    "conda list\n",
    "</pre>\n",
    "\n",
    "#### Or, install via `pip` in a `conda` environment \n",
    "\n",
    "* Create a new conda environment suitable for the `epiphyte` requirements: \n",
    "<pre style=\"background-color: #1E1E1E; color: white; padding: 10px; border-radius: 5px; border-left: 5px solid #007bff;\">\n",
    "conda create --name epiphyte python=3.9.18 ipython\n",
    "</pre>\n",
    "* Activate the conda environment and install `epiphyte`:\n",
    "<pre style=\"background-color: #1E1E1E; color: white; padding: 10px; border-radius: 5px; border-left: 5px solid #007bff;\">\n",
    "conda activate epiphyte\n",
    "pip install epiphyte\n",
    "</pre>\n"
   ]
  },
  {
   "cell_type": "markdown",
   "id": "9e826166",
   "metadata": {
    "vscode": {
     "languageId": "plaintext"
    }
   },
   "source": [
    "[Continue to *Configure and connect to the database*.](<4. Configure and connect to the database.md>)"
   ]
  }
 ],
 "metadata": {
  "kernelspec": {
   "display_name": "Python 3 (ipykernel)",
   "language": "python",
   "name": "python3"
  },
  "language_info": {
   "codemirror_mode": {
    "name": "ipython",
    "version": 3
   },
   "file_extension": ".py",
   "mimetype": "text/x-python",
   "name": "python",
   "nbconvert_exporter": "python",
   "pygments_lexer": "ipython3",
   "version": "3.8.10"
  }
 },
 "nbformat": 4,
 "nbformat_minor": 5
}
