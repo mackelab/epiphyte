{
 "cells": [
  {
   "cell_type": "markdown",
   "id": "f11b4def",
   "metadata": {},
   "source": [
    "# Tutorial: Define the database tables"
   ]
  },
  {
   "cell_type": "markdown",
   "id": "4b900ae6",
   "metadata": {},
   "source": [
    "### **Requirements:** \n",
    "\n",
    "* completed tutorials 1-5."
   ]
  },
  {
   "cell_type": "markdown",
   "id": "bbbb158e",
   "metadata": {},
   "source": [
    "This notebook covers the basics of defining tables. In particular, we'll go through:\n",
    "* Defining a table,\n",
    "* Defining inheritances and relationships between tables,\n",
    "* Defining how data is imported into a table, and\n",
    "* Creating mock-ups of tables before creating them within a database.\n",
    "\n",
    "All of the tables implemented here are taken from `/src/epiphyte/database/db_setup.py`. Importing this module will directely add these tables to the `epiphyte_mock` database schema. Only the tables that are set up as `Lookup` tables (i.e., draw their entries from a hard-coded source) will be populated upon first import; all others will need to be populated separately. Running the cells with the tables here will have the same effect as importing the module. \n",
    "\n",
    "-----------"
   ]
  },
  {
   "cell_type": "code",
   "execution_count": 1,
   "id": "67a25aa4",
   "metadata": {},
   "outputs": [],
   "source": [
    "import numpy as np\n",
    "from pathlib import Path\n",
    "from datetime import datetime\n",
    "\n",
    "from epiphyte.database import config, helpers\n",
    "from epiphyte.database.access_info import *\n",
    "from epiphyte.preprocessing.data_preprocessing import data_utils, create_vectors_from_time_points\n",
    "from epiphyte.preprocessing.annotation.stimulus_driven_annotation.movies import processing_labels\n",
    "from epiphyte.data.mock_data_utils import *\n"
   ]
  },
  {
   "cell_type": "markdown",
   "id": "305d6598",
   "metadata": {},
   "source": [
    "## 1. Generate the mock data for the example database. \n",
    "\n",
    "The following function generates a mock dataset of patient \"recordings\" during a movie. This mock dataset consists of fake spiking data, local field potential, watchlogs, and annotations to demonstrate the design and population of database tables. \n",
    "\n",
    "The generated data is stored in `/epiphyte/data/mock_data/`."
   ]
  },
  {
   "cell_type": "code",
   "execution_count": null,
   "id": "d0025a5b",
   "metadata": {},
   "outputs": [],
   "source": [
    "run_data_generation()"
   ]
  },
  {
   "cell_type": "markdown",
   "id": "72b8c6f1",
   "metadata": {},
   "source": [
    "## 2. Identify the order of table population"
   ]
  },
  {
   "cell_type": "markdown",
   "id": "90fe1e1f",
   "metadata": {},
   "source": [
    "Since some tables pull information from other tables, we first need to decide on the order of table population. Details of this decision process are given in **§ 4.2.2 Identify a hierarchy**, but ultimately it will depend heavily on the specifics of the dataset. "
   ]
  },
  {
   "cell_type": "markdown",
   "id": "2ae8d8d2",
   "metadata": {},
   "source": [
    "In the example dataset, the most top-level information is that which describes a given patient. Each patient comes with the following information: \n",
    "* Patient ID number,\n",
    "* Age of the patient,\n",
    "* Gender, and\n",
    "* Year of implantation. \n",
    "\n",
    "This information determines the columns of the `Patients` table:"
   ]
  },
  {
   "cell_type": "code",
   "execution_count": null,
   "id": "50c70e86",
   "metadata": {},
   "outputs": [],
   "source": [
    "@epi_schema\n",
    "class Patients(dj.Lookup):\n",
    "    definition = \"\"\"\n",
    "    # general patient data, imported from config file\n",
    "    patient_id: int                                    # patient ID\n",
    "    ---\n",
    "    age: smallint                                      # age of patient\n",
    "    gender: enum('f', 'm', 'x')                        # gender of patient\n",
    "    year: int                                          # year of surgery\n",
    "    \"\"\"\n",
    "\n",
    "    contents = config.patients"
   ]
  },
  {
   "cell_type": "markdown",
   "id": "a5690418",
   "metadata": {},
   "source": [
    "Running the ERD should now show a diagram with a single table entity:"
   ]
  },
  {
   "cell_type": "code",
   "execution_count": null,
   "id": "d8ac587e",
   "metadata": {},
   "outputs": [],
   "source": [
    "erd = dj.ERD(epi_schema)\n",
    "erd"
   ]
  },
  {
   "cell_type": "markdown",
   "id": "5a54edac",
   "metadata": {},
   "source": [
    "We can call the table now and take a look at its contents:"
   ]
  },
  {
   "cell_type": "code",
   "execution_count": null,
   "id": "00a7985f",
   "metadata": {},
   "outputs": [],
   "source": [
    "Patients()"
   ]
  },
  {
   "cell_type": "markdown",
   "id": "2b5bf356",
   "metadata": {},
   "source": [
    "Let's break down each line of the table definition for `Patients`:"
   ]
  },
  {
   "cell_type": "markdown",
   "id": "06e06e0a",
   "metadata": {},
   "source": [
    "```\n",
    "1   @epi_schema\n",
    "2   class Patients(dj.Lookup):\n",
    "3       definition = \"\"\"\n",
    "4       # general patient data, imported from config file\n",
    "5       patient_id: int                                    # patient ID\n",
    "6       ---\n",
    "7       age: smallint                                      # age of patient\n",
    "8       gender: enum('f', 'm', 'x')                        # gender of patient\n",
    "9       year: int                                          # year of surgery\n",
    "10      \"\"\"\n",
    "\n",
    "11      contents = config.patients\n",
    "```\n",
    "\n",
    "1. Class decorator that connects the table to the correct database. You can have an arbitrary number of databases hosted on the same machine -- this line dictates to which schema the table belongs. \n",
    "2. Class definition. Here, you name the table (convention is the same as Python class naming), and specify how the table will be populated as the argument input (here, a Lookup table).\n",
    "3. Docstring specifying the columns of the table. \n",
    "4. Description of the table. Notice that this description is printed when the table is called to the notebook above. \n",
    "5. Define the primary key of the table. Here, only the patient ID number is needed to uniquely specify a table entry. \n",
    "6. Separate the primary from the secondary keys. \n",
    "7. Define secondary key, age. \n",
    "8. Define secondary key, gender.\n",
    "9. Define secondary key, year. \n",
    "10. Close the table definition docstring. \n",
    "11. Link the class to the location from which the contents should be populated. Here, the contents are drawn from a dictionary defined in `/src/epiphyte/database/config.py` as the variable `patients`. Adding a new line here and importing the table again will create the new corresponding row. "
   ]
  },
  {
   "cell_type": "markdown",
   "id": "28644493",
   "metadata": {},
   "source": [
    "For this experiment and dataset, a patient might run the same paradigm more than once, meaning that there can be more than one experimental session per patient. To represent this in the database, we separate the patient information from the session information by also creating a separate `Sessions` table. "
   ]
  },
  {
   "cell_type": "code",
   "execution_count": null,
   "id": "daa8b5b9",
   "metadata": {},
   "outputs": [],
   "source": [
    "@epi_schema\n",
    "class Sessions(dj.Lookup):\n",
    "    definition = \"\"\"\n",
    "    # general session data, imported from config file\n",
    "    patient_id: int                                    # patient ID\n",
    "    session_nr: int                                    # session number\n",
    "    ---\n",
    "    session_type: enum('full_movie', 'follow_up', 'partial_movie')   # type of session for corresponding recording\n",
    "    \"\"\"\n",
    "\n",
    "    contents = config.sessions"
   ]
  },
  {
   "cell_type": "markdown",
   "id": "87e6a0f4",
   "metadata": {},
   "source": [
    "There are two additional Lookup tables in the database, `Annotators` and `LabelNames`. \n",
    "These tables contain the information regarding identity of label creators and the names of the created labels, respectively. "
   ]
  },
  {
   "cell_type": "code",
   "execution_count": null,
   "id": "cba199e9",
   "metadata": {},
   "outputs": [],
   "source": [
    "@epi_schema\n",
    "class Annotator(dj.Lookup):\n",
    "    definition = \"\"\"\n",
    "    # annatotors of the video, imported from config file\n",
    "    annotator_id: varchar(5)                    # unique ID for each annotator\n",
    "    ---\n",
    "    first_name: varchar(32)                      # first name of annotator\n",
    "    last_name: varchar(32)                       # last name of annotator\n",
    "    \"\"\"\n",
    "\n",
    "    contents = config.annotators\n",
    "\n",
    "@epi_schema\n",
    "class LabelName(dj.Lookup):\n",
    "    definition = \"\"\"\n",
    "    # names of existing labels, imported from config file\n",
    "    label_name: varchar(32)   # label name\n",
    "    \"\"\"\n",
    "\n",
    "    contents = config.label_names"
   ]
  },
  {
   "cell_type": "markdown",
   "id": "206e952e",
   "metadata": {},
   "source": [
    "Now looking at the entity relationship diagram, we can see 4 tables arranged with a flat hierarchy, since no table depends on another table."
   ]
  },
  {
   "cell_type": "code",
   "execution_count": null,
   "id": "6d6aa2be",
   "metadata": {},
   "outputs": [],
   "source": [
    "erd = dj.ERD(epi_schema)\n",
    "erd"
   ]
  },
  {
   "attachments": {
    "erd.png": {
     "image/png": "[encoded data removed]"
    }
   },
   "cell_type": "markdown",
   "id": "24400dbd",
   "metadata": {},
   "source": [
    "The remaining tables, shown below in a modified Panel B from Figure 3, should be defined and instantiated according to the hierarchy, or \"downstream\" along the ERD.\n",
    "\n",
    "![erd.png](attachment:erd.png)"
   ]
  },
  {
   "cell_type": "markdown",
   "id": "a6f0e6f6",
   "metadata": {},
   "source": [
    "Level I: `Patients`, `Sessions`, `Annotator`, `LabelName`\n",
    "\n",
    "Level II: `MovieSession`, `ElectrodeUnit`, `LFPData`, `MovieAnnotation`\n",
    "\n",
    "Level III: `SpikeData`, `PatientAlignedMovieAnnotations`, `MovieSkips`, `MoviePauses`"
   ]
  },
  {
   "cell_type": "markdown",
   "id": "2e199924",
   "metadata": {},
   "source": [
    "## 3. Define remaining tables, including dependencies/relationships. "
   ]
  },
  {
   "cell_type": "markdown",
   "id": "0f0b824b",
   "metadata": {},
   "source": [
    "Now we can start defining the later tables (Level II, Level III).\n",
    "\n",
    "Technically, you can define all tables at once, and then instantiate and populate them in the correct order. For the sake of this tutorial, we will cover a couple tables from Level II and a couple from Level II, including the table a) definition, b) instantiation (addition of the empty table to the database), and c) population. "
   ]
  },
  {
   "cell_type": "markdown",
   "id": "db89f1a0",
   "metadata": {},
   "source": [
    "### `MovieSession`\n",
    "\n",
    "The `MovieSession` table contains the paradigm variables from each patient's movie watch. It takes its primary keys from the `Patients` and `Sessions` tables. Additionally, this table is of type `dj.Imported` and directly pulls its entries from the dataset created in the first tutorial. Since it imports its entries, we will need to additionally define a function for populating the table. Here, we will use the autopopulation method from the Datajoint package (more info [here](https://datajoint.com/docs/core/datajoint-python/0.14/api/datajoint/autopopulate/))."
   ]
  },
  {
   "cell_type": "code",
   "execution_count": null,
   "id": "5419837d",
   "metadata": {},
   "outputs": [],
   "source": [
    "@epi_schema\n",
    "class MovieSession(dj.Imported):\n",
    "    definition = \"\"\"\n",
    "    # data of individual movie watching sessions\n",
    "    -> Patients                          # patient ID\n",
    "    -> Sessions                          # session ID\n",
    "    ---\n",
    "    date : date                         # date of movie session\n",
    "    time : time\n",
    "    pts: longblob                       # order of movie frames for patient (pts) \n",
    "    dts: longblob                       # cpu time stamps (dts)\n",
    "    neural_recording_time: longblob     # neural recording time (rectime)\n",
    "    channel_names: longblob             # channel name, indicating electrode number and brain region\n",
    "    \"\"\"\n",
    "    \n",
    "    def _make_tuples(self, key):\n",
    "        patient_ids = Patients.fetch(\"patient_id\")       \n",
    "\n",
    "        for _, pat in enumerate(patient_ids):\n",
    "\n",
    "            pat_sessions = (Sessions & f\"patient_id={pat}\").fetch(\"session_nr\")       \n",
    "\n",
    "            try:\n",
    "                checks = (MovieSession & f\"patient_id={pat}\").fetch(\"session_nr\")\n",
    "                if len(checks) == len(pat_sessions):\n",
    "                    print(checks)\n",
    "                    print(len(checks), len(pat_sessions))\n",
    "                    continue\n",
    "                else:\n",
    "                    print(f\"Adding patient {pat} to database...\")\n",
    "                    pass\n",
    "            except:\n",
    "                print(f\"Adding patient {pat} to database...\")\n",
    "                pass\n",
    "\n",
    "            for _, sesh in enumerate(pat_sessions):\n",
    "\n",
    "                try:\n",
    "                    check = len((MovieSession & f\"patient_id={1}\" & f\"session_nr={1}\").fetch(\"pts\")[0])\n",
    "                    if check > 0:\n",
    "                        print(f\"Adding patient {pat} to database...\")\n",
    "                        pass\n",
    "                    else:\n",
    "                        continue\n",
    "                except:\n",
    "                    print(f\"Adding patient {pat} to database...\")\n",
    "                    pass\n",
    "\n",
    "                main_patient_dir = Path(config.PATH_TO_PATIENT_DATA, str(pat), f\"session_{sesh}\")\n",
    "\n",
    "                session_info = np.load(main_patient_dir / \"session_info.npy\", allow_pickle=True)\n",
    "                date = session_info.item().get(\"date\")\n",
    "                time = session_info.item().get(\"time\")\n",
    "                time = datetime.strptime(time, '%H-%M-%S').strftime('%H:%M.%S')\n",
    "\n",
    "                path_wl =  main_patient_dir / \"watchlogs\" \n",
    "                ffplay_file = next(path_wl.glob(\"ffplay*\"), None)\n",
    "\n",
    "                if ffplay_file:\n",
    "                    print(\" Found ffplay file:\", ffplay_file)\n",
    "                else:\n",
    "                    print(\" No ffplay file found in the watchlogs directory.\")\n",
    "                    break\n",
    "\n",
    "                path_daq = main_patient_dir / \"daq_files\" \n",
    "                daq_file = next(path_daq.glob(\"timedDAQ*\"), None)\n",
    "                \n",
    "                if ffplay_file:\n",
    "                    print(\" Found DAQ file:\", daq_file)\n",
    "                else:\n",
    "                    print(\" No DAQ file found in the daq_files directory.\")\n",
    "                    break\n",
    "                    \n",
    "                path_events = main_patient_dir / \"event_file\" / \"Events.npy\"\n",
    "                time_conversion = data_utils.TimeConversion(path_to_wl=ffplay_file, path_to_dl=daq_file,\n",
    "                                                                    path_to_events=path_events)\n",
    "                pts, rectime, dts = time_conversion.convert()\n",
    "                \n",
    "                save_dir = main_patient_dir / \"movie_info\"\n",
    "                save_dir.mkdir(exist_ok=True)\n",
    "                np.save(save_dir / \"pts.npy\", pts)\n",
    "                np.save(save_dir / \"dts.npy\", dts)\n",
    "                np.save(save_dir / \"neural_rec_time.npy\", rectime)\n",
    "\n",
    "                path_channel_names = main_patient_dir / \"ChannelNames.txt\"\n",
    "                channel_names = helpers.get_channel_names(path_channel_names)\n",
    "\n",
    "                self.insert1({'patient_id': pat,\n",
    "                            'session_nr': sesh,\n",
    "                            'date': date,\n",
    "                            'time': time,\n",
    "                            'pts': pts,\n",
    "                            'dts': dts,\n",
    "                            'neural_recording_time': rectime,\n",
    "                            'channel_names': channel_names\n",
    "                            }, skip_duplicates=True)\n"
   ]
  },
  {
   "cell_type": "markdown",
   "id": "f475b1d1",
   "metadata": {},
   "source": [
    "TODO \n",
    "\n",
    "explain populate method a little bit, with the lfp manual population in mind"
   ]
  },
  {
   "cell_type": "code",
   "execution_count": null,
   "id": "c11e7abe",
   "metadata": {},
   "outputs": [],
   "source": [
    "MovieSession.populate()\n",
    "MovieSession()"
   ]
  },
  {
   "cell_type": "code",
   "execution_count": null,
   "id": "0f1fdb63",
   "metadata": {},
   "outputs": [],
   "source": [
    "erd = dj.ERD(epi_schema)\n",
    "erd"
   ]
  },
  {
   "cell_type": "markdown",
   "id": "85e1899c",
   "metadata": {},
   "source": [
    "### `LFPData`\n",
    "\n",
    "The `LFPData` "
   ]
  },
  {
   "cell_type": "code",
   "execution_count": null,
   "id": "72f8ea66",
   "metadata": {},
   "outputs": [],
   "source": [
    "@epi_schema\n",
    "class LFPData(dj.Manual):\n",
    "    definition = \"\"\"\n",
    "    # local field potential data, by channel. \n",
    "    -> Patients\n",
    "    -> Sessions\n",
    "    csc_nr: int\n",
    "    ---\n",
    "    samples: longblob                # samples, in microvolts\n",
    "    timestamps: longblob             # timestamps corresponding to each sample, in ms\n",
    "    sample_rate: int                 # sample rate from the recording device\n",
    "    brain_region: varchar(8)         # brain region where unit was recorded\n",
    "    \"\"\""
   ]
  },
  {
   "cell_type": "markdown",
   "id": "8be9b2c9",
   "metadata": {},
   "source": [
    "defining a function for manually adding data to the table\n"
   ]
  },
  {
   "cell_type": "code",
   "execution_count": null,
   "id": "eef547ab",
   "metadata": {},
   "outputs": [],
   "source": [
    "def populate_lfp_data_table():\n",
    "    \"\"\"\n",
    "    Iterates over the channel files stored in config.PATH_TO_DATA/lfp_data/\n",
    "    and adds each channel to the table. \n",
    "\n",
    "    Ignores channels already uploaded.\n",
    "    \"\"\"\n",
    "\n",
    "    patient_ids, session_nrs = MovieSession.fetch(\"patient_id\", \"session_nr\")\n",
    "\n",
    "    for i_pat, pat in enumerate(patient_ids):\n",
    "        pat_sessions = session_nrs[i_pat]\n",
    "\n",
    "        for i_sesh, sesh in enumerate(pat_sessions):\n",
    "         \n",
    "            path_ds_dir = Path(config.PATH_TO_PATIENT_DATA, str(pat), f\"session_{sesh}\", \"lfp_data\")\n",
    "            lfp_files = list(path_ds_dir.glob(\"CSC*\"))\n",
    "\n",
    "            try:\n",
    "                check = (LFPData & f\"patient_id={pat}\" & f\"session_nr={sesh}\").fetch(\"csc_nr\")[0]\n",
    "                if len(check) == len(lfp_files):\n",
    "                    print(f\"    Patient {pat} session {sesh} already added.\")\n",
    "                    continue\n",
    "                else:\n",
    "                    print(f\"    Adding patient {pat} session {sesh} to database...\")\n",
    "                    pass\n",
    "            except:\n",
    "                print(f\"    Adding patient {pat} session {sesh} to database...\")\n",
    "                pass\n",
    "\n",
    "            path_channels = Path(config.PATH_TO_PATIENT_DATA, str(pat), f\"session_{sesh}\", \"ChannelNames.txt\")\n",
    "            channel_names = helpers.get_channel_names(path_channels)\n",
    "\n",
    "            for ds_file in path_ds_dir.iterdir():\n",
    "                \n",
    "                csc_nr = ds_file.name.split('_')[0][3:]\n",
    "                region = channel_names[int(csc_nr)-1]\n",
    "                print(f\"  .. adding csc {csc_nr}..\")\n",
    "                ds_dict = np.load(ds_file, allow_pickle=True)\n",
    "                LFPData.insert1({\n",
    "                    'patient_id': pat,\n",
    "                    'session_nr': sesh,\n",
    "                    'csc_nr': csc_nr,\n",
    "                    'samples': ds_dict.item().get(\"samples\"),\n",
    "                    'timestamps': ds_dict.item().get(\"timestamps\"),\n",
    "                    'sample_rate': ds_dict.item().get(\"sample_rate\")[0],\n",
    "                    'brain_region': region\n",
    "                })\n",
    "\n",
    "\n",
    "                print(f\"  .. csc {csc_nr} added.\")\n"
   ]
  },
  {
   "cell_type": "code",
   "execution_count": null,
   "id": "24831771",
   "metadata": {},
   "outputs": [],
   "source": [
    "# populate_lfp_data_table()\n",
    "# LFPData()"
   ]
  },
  {
   "cell_type": "code",
   "execution_count": null,
   "id": "68bccea5",
   "metadata": {},
   "outputs": [],
   "source": [
    "erd = dj.ERD(epi_schema)\n",
    "erd"
   ]
  },
  {
   "cell_type": "markdown",
   "id": "495e1cf2",
   "metadata": {},
   "source": [
    "### `ElectrodeUnit`\n",
    "\n",
    "The `ElectrodeUnit` "
   ]
  },
  {
   "cell_type": "code",
   "execution_count": null,
   "id": "610b6d1f",
   "metadata": {},
   "outputs": [],
   "source": [
    "@epi_schema\n",
    "class ElectrodeUnit(dj.Imported):\n",
    "    definition = \"\"\"\n",
    "    # Contains information about the implanted electrodes of each patient\n",
    "    -> Patients                      # patient ID\n",
    "    -> Sessions                      # session number\n",
    "    unit_id: int                     # unique ID for unit (for respective  patient)\n",
    "    ---\n",
    "    csc: int                         # number of CSC file\n",
    "    unit_type: enum('M', 'S', 'X')   # unit type: 'M' for Multi Unit, 'S' for Single Unit, 'X': undefined\n",
    "    unit_nr: int                     # number of unit, as there can be several multi units and single units in one CSC file\n",
    "    brain_region: varchar(8)         # brain region where unit was recorded\n",
    "    \"\"\"\n",
    "\n",
    "    def _make_tuples(self, key):\n",
    "        patient_ids = Patients.fetch(\"patient_id\")\n",
    "\n",
    "        # iterate over each patient in db\n",
    "        for i_pat, pat in enumerate(patient_ids):\n",
    "            pat_sessions = (Sessions & f\"patient_id={pat}\").fetch(\"session_nr\")\n",
    "\n",
    "            # further iterate over each patient's sessions\n",
    "            for i_sesh, sesh in enumerate(pat_sessions):\n",
    "                \n",
    "                path_channels = Path(config.PATH_TO_PATIENT_DATA, str(pat), f\"session_{sesh}\")\n",
    "                channel_names = helpers.get_channel_names(path_channels / \"ChannelNames.txt\")\n",
    "\n",
    "                try:\n",
    "                    check = (ElectrodeUnit & f\"patient_id={pat}\" & f\"session_nr={sesh}\").fetch(\"csc_nr\")\n",
    "                    if len(check) == len(channel_names):\n",
    "                        continue\n",
    "                    else:\n",
    "                        print(f\"    Adding patient {pat} session {sesh} to database...\")\n",
    "                        pass\n",
    "                except:\n",
    "                    print(f\"    Adding patient {pat} session {sesh} to database...\")\n",
    "                    pass\n",
    "\n",
    "                spike_dir = Path(config.PATH_TO_DATA, \"patient_data\", str(pat), f\"session_{sesh}\", \"spiking_data\")\n",
    "                spike_filepaths = list(spike_dir.iterdir())\n",
    "                spike_filenames = sorted([s.name for s in spike_filepaths], key=helpers.extract_sort_key)\n",
    "\n",
    "                for unit_id, filename in enumerate(spike_filenames):\n",
    "                    csc_nr, unit = filename[:-4].split(\"_\")\n",
    "                    csc_index = int(csc_nr[3:]) - 1\n",
    "                    print(f\"    ... Unit ID: {unit_id}, CSC #: {csc_nr}, Channel index: {csc_index}\")\n",
    "\n",
    "                    channel = channel_names[csc_index]\n",
    "                    print(f\"    ... Channel name: {channel}\")\n",
    "\n",
    "                    unit_type, unit_nr = helpers.get_unit_type_and_number(unit)\n",
    "                    print(f\"    ... Unit type: {unit_type},  Within-channel unit number: {unit_nr}\")\n",
    "\n",
    "                    self.insert1({'patient_id': pat,\n",
    "                                'session_nr': sesh,\n",
    "                                'unit_id': unit_id, \n",
    "                                'csc': csc_nr[3:], \n",
    "                                'unit_type': unit_type, \n",
    "                                'unit_nr': unit_nr,\n",
    "                                'brain_region': channel},\n",
    "                                    skip_duplicates=True)\n",
    "                    \n",
    "                    print(\" \")"
   ]
  },
  {
   "cell_type": "code",
   "execution_count": null,
   "id": "89598e01",
   "metadata": {},
   "outputs": [],
   "source": [
    "ElectrodeUnit.populate()\n",
    "ElectrodeUnit()"
   ]
  },
  {
   "cell_type": "code",
   "execution_count": null,
   "id": "4cb55659",
   "metadata": {},
   "outputs": [],
   "source": [
    "erd = dj.ERD(epi_schema)\n",
    "erd"
   ]
  },
  {
   "cell_type": "markdown",
   "id": "40161d09",
   "metadata": {},
   "source": [
    "### `MovieAnnotation`\n",
    "\n",
    "The `MovieAnnotation` "
   ]
  },
  {
   "cell_type": "code",
   "execution_count": null,
   "id": "95402c06",
   "metadata": {},
   "outputs": [],
   "source": [
    "@epi_schema\n",
    "class MovieAnnotation(dj.Imported):\n",
    "    definition = \"\"\"\n",
    "    # information about video annotations (e.g. labels of characters); \n",
    "    # this table contains start and end time points and values of the segments of the annotations;\n",
    "    # all time points are in Neural Recording Time;\n",
    "    -> Annotator                    # creator of movie annotation\n",
    "    -> LabelName                    # name of annotation\n",
    "    annotation_date: date           # date of annotation\n",
    "    ---\n",
    "    values: longblob                # list of values that represent label\n",
    "    start_times: longblob           # list of start times of label segments in movie play time (PTS)\n",
    "    stop_times: longblob            # list of stop times of label segments in movie play time (PTS)\n",
    "    category: varchar(32)           # category of label; e.g. 'character', 'emotion', 'location'\n",
    "    indicator_function: longblob    # full indicator function, one value for each movie frame\n",
    "    \"\"\"\n",
    "\n",
    "    def _make_tuples(self, key):\n",
    "        path_labels = Path(config.PATH_TO_LABELS)\n",
    "\n",
    "        for filepath in path_labels.iterdir():\n",
    "            label_id, label_name, annotator, date, category = filepath.name[:-4].split(\"_\")\n",
    "\n",
    "            try:\n",
    "                check = (MovieAnnotation & f\"label_name='{label_name}'\" & f\"category='{category}'\").fetch(\"values\")\n",
    "                if len(check) > 0:\n",
    "                    continue\n",
    "                else: \n",
    "                    print(f\"    Adding {label_name}, category {category} to database...\")\n",
    "                    pass\n",
    "            except:\n",
    "                print(f\"    Adding {label_name}, category {category} to database...\")\n",
    "                pass\n",
    "\n",
    "            content = np.load(filepath)\n",
    "\n",
    "            values = np.array(content[0])\n",
    "            start_times = np.array(content[1])\n",
    "            stop_times = np.array(content[2])\n",
    "                \n",
    "            ind_func = processing_labels.make_label_from_start_stop_times(values, start_times, stop_times, config.PTS_MOVIE_new)\n",
    "                \n",
    "            print(f\"    ... # of occurrences: {int(sum(values))}\\n\")\n",
    "\n",
    "            self.insert1({'label_name': label_name,\n",
    "                            'annotator_id': annotator,\n",
    "                            'annotation_date': datetime.strptime(date, '%Y%m%d'),\n",
    "                            'category': category,\n",
    "                            'values': values,\n",
    "                            'start_times': start_times,\n",
    "                            'stop_times': stop_times,\n",
    "                            'indicator_function': np.array(ind_func)\n",
    "                            }, skip_duplicates=True)\n",
    "                    "
   ]
  },
  {
   "cell_type": "code",
   "execution_count": null,
   "id": "5423a4de",
   "metadata": {},
   "outputs": [],
   "source": [
    "MovieAnnotation.populate()\n",
    "MovieAnnotation()"
   ]
  },
  {
   "cell_type": "code",
   "execution_count": null,
   "id": "518c89ad",
   "metadata": {},
   "outputs": [],
   "source": [
    "erd = dj.ERD(epi_schema)\n",
    "erd"
   ]
  },
  {
   "cell_type": "markdown",
   "id": "b2adb17b",
   "metadata": {},
   "source": [
    "## Remaining tables"
   ]
  },
  {
   "cell_type": "markdown",
   "id": "92d1e247",
   "metadata": {},
   "source": [
    "### `SpikeData`\n",
    "\n",
    "The `SpikeData` "
   ]
  },
  {
   "cell_type": "code",
   "execution_count": null,
   "id": "7be0a192",
   "metadata": {},
   "outputs": [],
   "source": [
    "@epi_schema\n",
    "class SpikeData(dj.Imported):\n",
    "    definition = \"\"\"\n",
    "    # This table contains all spike times of all units of all patients in Neural Recording Time\n",
    "    # Each entry contains a vector of all spike times of one unit of one patient\n",
    "    -> Sessions\n",
    "    -> ElectrodeUnit                   # unit from which data was recorded\n",
    "    ---\n",
    "    spike_times: longblob              # in case bin_size is not 0: number of spikes; otherwise: times of spikes (original data)\n",
    "    spike_amps: longblob               # amplitudes for each spike in spike_times\n",
    "    \"\"\"\n",
    "\n",
    "    def _make_tuples(self, key):\n",
    "        patient_ids = Patients.fetch(\"patient_id\")\n",
    "\n",
    "        for i_pat, pat in enumerate(patient_ids):\n",
    "            pat_sessions = (Sessions & f\"patient_id={pat}\").fetch(\"session_nr\")\n",
    "            \n",
    "            for i_sesh, sesh in enumerate(pat_sessions):\n",
    "                spike_dir = Path(config.PATH_TO_DATA, \"patient_data\", str(pat), f\"session_{sesh}\", \"spiking_data\")\n",
    "                spike_files = list(spike_dir.iterdir())\n",
    "                unit_ids = (ElectrodeUnit & f\"patient_id={pat}\" & f\"session_nr={sesh}\").fetch(\"unit_id\")\n",
    "\n",
    "                assert len(spike_files) == len(unit_ids), \"Number of units in ElectrodeUnits doesn't match number of spiking files.\"\n",
    "\n",
    "                try:\n",
    "                    check = (SpikeData & f\"patient_id={pat}\" & f\"session_nr={sesh}\").fetch(\"unit_id\")[0]\n",
    "                    if len(check) == len(spike_files) == len(unit_ids):\n",
    "                        continue\n",
    "                    else:\n",
    "                        print(f\"    Adding patient {pat} session {sesh} to database...\")\n",
    "                        pass\n",
    "                except:\n",
    "                    print(f\"    Adding patient {pat} session {sesh} to database...\")\n",
    "                    pass\n",
    "\n",
    "                for filepath in spike_files:\n",
    "                    filename = filepath.name\n",
    "                    csc_nr, unit = filename[:-4].split(\"_\")\n",
    "                    csc_nr = int(csc_nr[3:])\n",
    "                    unit_type, unit_nr = helpers.get_unit_type_and_number(unit)\n",
    "\n",
    "                    unit_id = (ElectrodeUnit & f\"patient_id={pat}\" & f\"session_nr={sesh}\" \n",
    "                            & f\"csc={csc_nr}\" & f\"unit_nr={unit_nr}\" & f\"unit_type='{unit_type}'\").fetch(\"unit_id\")[0]\n",
    "\n",
    "                    spikes_file = np.load(filepath, allow_pickle=True)\n",
    "                    spikes_file = spikes_file.item()\n",
    "                    times = spikes_file[\"spike_times\"]\n",
    "                    amps = spikes_file[\"spike_amps\"]\n",
    "\n",
    "                    print(f\"    ... Unit ID: {unit_id}, CSC #: {csc_nr}\")\n",
    "                    print(f\"    ... Nm. of spikes: {len(times)}\")\n",
    "                    print(f\"    ... Max amp.: {np.max(amps)} microV\\n\")\n",
    "\n",
    "                    self.insert1({'patient_id': pat, \n",
    "                                'session_nr': sesh, \n",
    "                                'unit_id': unit_id,\n",
    "                                'spike_times': times, \n",
    "                                'spike_amps': amps}, skip_duplicates=True)\n",
    "                \n",
    "            \n"
   ]
  },
  {
   "cell_type": "code",
   "execution_count": null,
   "id": "4165bc16",
   "metadata": {},
   "outputs": [],
   "source": [
    "SpikeData.populate()\n",
    "SpikeData()"
   ]
  },
  {
   "cell_type": "code",
   "execution_count": null,
   "id": "06ef75bd",
   "metadata": {},
   "outputs": [],
   "source": [
    "erd = dj.ERD(epi_schema)\n",
    "erd"
   ]
  },
  {
   "cell_type": "markdown",
   "id": "484747bb",
   "metadata": {},
   "source": [
    "### `PatientAlignedMovieAnnotations`\n",
    "\n",
    "The `PatientAlignedMovieAnnotations` "
   ]
  },
  {
   "cell_type": "code",
   "execution_count": null,
   "id": "b94b895d",
   "metadata": {},
   "outputs": [],
   "source": [
    "@epi_schema\n",
    "class PatientAlignedMovieAnnotation(dj.Computed):\n",
    "    definition = \"\"\"\n",
    "    # Movie Annotations aligned to patient time / time points are in neural recording time\n",
    "    -> MovieSession        # movie watching session ID\n",
    "    -> MovieAnnotation     # label\n",
    "    ---\n",
    "    label_in_patient_time: longblob    # label matched to patient time (pts)\n",
    "    values: longblob       # list of values that represent label\n",
    "    start_times: longblob  # list of start times of label segments in neural recording time\n",
    "    stop_times: longblob   # list of stop times of label segments in neural recording time\n",
    "    \"\"\"\n",
    "\n",
    "    def make(self, key):\n",
    "        patient_ids, session_nrs = MovieSession.fetch(\"patient_id\", \"session_nr\")\n",
    "        entries = (MovieAnnotation).fetch('KEY')\n",
    "\n",
    "        for i_pat, pat in enumerate(patient_ids):\n",
    "            pat_sessions = session_nrs[i_pat]\n",
    "            for i_sesh, sesh in enumerate([pat_sessions]):\n",
    "                \n",
    "                print(f\"Patient {pat} session {sesh}..\")\n",
    "\n",
    "                for entry in entries:\n",
    "                    \n",
    "                    annotator_id = entry[\"annotator_id\"]\n",
    "                    label_name = entry[\"label_name\"]\n",
    "                    annotation_date = entry[\"annotation_date\"]\n",
    "\n",
    "                    try:\n",
    "                        check = (PatientAlignedMovieAnnotation & f\"patient_id={pat}\" & f\"session_nr={sesh}\"\n",
    "                                    & f\"label_name='{label_name}'\" & f\"annotator_id='{annotator_id}'\").fetch(\"values\")\n",
    "                        if check.any():\n",
    "                            print(f\"    ... {label_name} already in database.\")\n",
    "                            continue\n",
    "                        else:\n",
    "                            print(f\"    ... Adding patient {pat} session {sesh} label {label_name} to database.\")\n",
    "                            pass\n",
    "                    except:\n",
    "                        print(f\"    ... Adding patient {pat} session {sesh} label {label_name} to database.\")\n",
    "                        pass\n",
    "                    \n",
    "                    patient_pts = (MovieSession & f\"patient_id={pat}\" & f\"session_nr={sesh}\").fetch(\"pts\")[0]\n",
    "                    neural_rectime = (MovieSession & f\"patient_id={pat}\" & f\"session_nr={sesh}\").fetch(\"neural_recording_time\")[0]\n",
    "                    \n",
    "                    default_label = (MovieAnnotation & f\"annotator_id='{annotator_id}'\" & f\"label_name='{label_name}'\").fetch(\"indicator_function\")[0]\n",
    "                    patient_aligned_label = match_label_to_patient_pts_time(default_label, patient_pts)\n",
    "                    values, starts, stops = create_vectors_from_time_points.get_start_stop_times_from_label(neural_rectime, \n",
    "                                                                                            patient_aligned_label)\n",
    "\n",
    "                    self.insert1({'patient_id': pat,\n",
    "                                    'session_nr': sesh,\n",
    "                                    'annotator_id': annotator_id,\n",
    "                                    'label_name': label_name,\n",
    "                                    'annotation_date': annotation_date,\n",
    "                                    'label_in_patient_time': np.array(patient_aligned_label),\n",
    "                                    'values': np.array(values),\n",
    "                                    'start_times': np.array(starts),\n",
    "                                    'stop_times': np.array(stops),\n",
    "                                    }, skip_duplicates=True)\n",
    "\n",
    "\n",
    "            "
   ]
  },
  {
   "cell_type": "code",
   "execution_count": null,
   "id": "9e1ff92d",
   "metadata": {},
   "outputs": [],
   "source": [
    "PatientAlignedMovieAnnotation.populate()\n",
    "PatientAlignedMovieAnnotation()"
   ]
  },
  {
   "cell_type": "code",
   "execution_count": null,
   "id": "a2969e00",
   "metadata": {},
   "outputs": [],
   "source": [
    "erd = dj.ERD(epi_schema)\n",
    "erd"
   ]
  },
  {
   "cell_type": "markdown",
   "id": "f2662066",
   "metadata": {},
   "source": [
    "### `MovieSkips`\n",
    "\n",
    "The `MovieSkips` "
   ]
  },
  {
   "cell_type": "code",
   "execution_count": null,
   "id": "f0b4ba0a",
   "metadata": {},
   "outputs": [],
   "source": [
    "@epi_schema\n",
    "class MovieSkips(dj.Computed):\n",
    "    definition = \"\"\"\n",
    "    # This table Contains start and stop time points, where the watching behaviour of the patient changed from \n",
    "    # continuous (watching the movie in the correct frame order) to non-continuous (e.g. jumping through the movie) or \n",
    "    # the other way round;\n",
    "    # all time points are in Neural Recording Time\n",
    "    -> MovieSession                    # number of movie session\n",
    "    ---\n",
    "    values: longblob                   # values of continuous watch segments\n",
    "    start_times: longblob              # start time points of segments\n",
    "    stop_times: longblob               # end time points of segments\n",
    "    \"\"\"\n",
    "    \n",
    "    def make(self, key):\n",
    "        patient_ids, session_nrs = MovieSession.fetch(\"patient_id\", \"session_nr\")\n",
    "\n",
    "        for i_pat, pat in enumerate(patient_ids):\n",
    "            pat_sessions = session_nrs[i_pat]\n",
    "\n",
    "            for i_sesh, sesh in enumerate([pat_sessions]):\n",
    "\n",
    "                try:\n",
    "                    check = (MovieSkips & f\"patient_id={pat}\" & f\"session_nr={sesh}\").fetch(\"values\")\n",
    "                    if check.any():\n",
    "                        continue\n",
    "                    else:\n",
    "                        print(f\"    ... Adding patient {pat} session {sesh} to database.\")\n",
    "                        pass\n",
    "                except:\n",
    "                    print(f\"    ... Adding patient {pat} session {sesh} to database.\")\n",
    "                    pass\n",
    "\n",
    "                main_patient_dir = Path(config.PATH_TO_PATIENT_DATA, str(pat), f\"session_{sesh}\")\n",
    "\n",
    "                session_info = np.load(main_patient_dir / \"session_info.npy\", allow_pickle=True)\n",
    "                date = session_info.item().get(\"date\")\n",
    "                time = session_info.item().get(\"time\")\n",
    "                time = datetime.strptime(time, '%H-%M-%S').strftime('%H:%M.%S')\n",
    "\n",
    "                path_wl =  main_patient_dir / \"watchlogs\" \n",
    "                ffplay_file = next(path_wl.glob(\"ffplay*\"), None)\n",
    "\n",
    "                if ffplay_file:\n",
    "                    print(\" Found ffplay file:\", ffplay_file)\n",
    "                else:\n",
    "                    print(\" No ffplay file found in the watchlogs directory.\")\n",
    "                    break\n",
    "\n",
    "                path_daq = main_patient_dir / \"daq_files\" \n",
    "                daq_file = next(path_daq.glob(\"timedDAQ*\"), None)\n",
    "                \n",
    "                if ffplay_file:\n",
    "                    print(\" Found DAQ file:\", daq_file)\n",
    "                else:\n",
    "                    print(\" No DAQ file found in the daq_files directory.\")\n",
    "                    break\n",
    "                    \n",
    "                path_events = main_patient_dir / \"event_file\" / \"Events.npy\"\n",
    "                time_conversion = data_utils.TimeConversion(path_to_wl=ffplay_file, path_to_dl=daq_file,\n",
    "                                                                    path_to_events=path_events)\n",
    "                starts, stops, values = time_conversion.convert_skips()\n",
    "\n",
    "                self.insert1({'patient_id': pat, \n",
    "                            'session_nr': sesh,\n",
    "                            'start_times': np.array(starts), \n",
    "                            'stop_times': np.array(stops), \n",
    "                            'values': np.array(values)}, skip_duplicates=True)"
   ]
  },
  {
   "cell_type": "code",
   "execution_count": null,
   "id": "751c30f0",
   "metadata": {},
   "outputs": [],
   "source": [
    "MovieSkips.populate()\n",
    "MovieSkips()"
   ]
  },
  {
   "cell_type": "code",
   "execution_count": null,
   "id": "275d4225",
   "metadata": {},
   "outputs": [],
   "source": [
    "erd = dj.ERD(epi_schema)\n",
    "erd"
   ]
  },
  {
   "cell_type": "markdown",
   "id": "894f7efc",
   "metadata": {},
   "source": [
    "### `MoviePauses`\n",
    "\n",
    "The `MoviePauses` "
   ]
  },
  {
   "cell_type": "code",
   "execution_count": null,
   "id": "f4d289fe",
   "metadata": {},
   "outputs": [],
   "source": [
    "@epi_schema\n",
    "class MoviePauses(dj.Computed):\n",
    "    definition = \"\"\"\n",
    "    # This table contains information about pauses in movie playback;\n",
    "    # This is directly computed from the watch log;\n",
    "    # Time points are in Neural Recording Time\n",
    "    -> MovieSession                    # movie watching session of patient\n",
    "    ---\n",
    "    start_times: longblob              # start time points of pauses\n",
    "    stop_times: longblob               # end time points of pauses\n",
    "    \"\"\"\n",
    "\n",
    "    def make(self, key):\n",
    "\n",
    "        patient_ids, session_nrs = MovieSession.fetch(\"patient_id\", \"session_nr\")\n",
    "\n",
    "        for i_pat, pat in enumerate(patient_ids):\n",
    "            pat_sessions = session_nrs[i_pat]\n",
    "\n",
    "            for i_sesh, sesh in enumerate([pat_sessions]):\n",
    "\n",
    "                try:\n",
    "                    check = (MoviePauses & f\"patient_id={pat}\" & f\"session_nr={sesh}\").fetch(\"values\")\n",
    "                    if check.any():\n",
    "                        continue\n",
    "                    else:\n",
    "                        print(f\"    ... Adding patient {pat} session {sesh} to database.\")\n",
    "                        pass\n",
    "                except:\n",
    "                    print(f\"    ... Adding patient {pat} session {sesh} to database.\")\n",
    "                    pass\n",
    "\n",
    "                main_patient_dir = Path(config.PATH_TO_PATIENT_DATA, str(pat), f\"session_{sesh}\")\n",
    "\n",
    "                session_info = np.load(main_patient_dir / \"session_info.npy\", allow_pickle=True)\n",
    "                date = session_info.item().get(\"date\")\n",
    "                time = session_info.item().get(\"time\")\n",
    "                time = datetime.strptime(time, '%H-%M-%S').strftime('%H:%M.%S')\n",
    "\n",
    "                path_wl =  main_patient_dir / \"watchlogs\" \n",
    "                ffplay_file = next(path_wl.glob(\"ffplay*\"), None)\n",
    "\n",
    "                if ffplay_file:\n",
    "                    print(\" Found ffplay file:\", ffplay_file)\n",
    "                else:\n",
    "                    print(\" No ffplay file found in the watchlogs directory.\")\n",
    "                    break\n",
    "\n",
    "                path_daq = main_patient_dir / \"daq_files\" \n",
    "                daq_file = next(path_daq.glob(\"timedDAQ*\"), None)\n",
    "                \n",
    "                if ffplay_file:\n",
    "                    print(\" Found DAQ file:\", daq_file)\n",
    "                else:\n",
    "                    print(\" No DAQ file found in the daq_files directory.\")\n",
    "                    break\n",
    "                    \n",
    "                path_events = main_patient_dir / \"event_file\" / \"Events.npy\"\n",
    "                time_conversion = data_utils.TimeConversion(path_to_wl=ffplay_file, path_to_dl=daq_file,\n",
    "                                                                    path_to_events=path_events)\n",
    "                \n",
    "                start, stop = time_conversion.convert_pauses()\n",
    "\n",
    "                self.insert1({'patient_id': pat, \n",
    "                            'session_nr': sesh,\n",
    "                            'start_times': np.array(starts), \n",
    "                            'stop_times': np.array(stops)}, skip_duplicates=True)\n",
    "                "
   ]
  },
  {
   "cell_type": "code",
   "execution_count": null,
   "id": "f450da68",
   "metadata": {},
   "outputs": [],
   "source": [
    "MoviePauses.populate()\n",
    "MoviePauses()"
   ]
  },
  {
   "cell_type": "code",
   "execution_count": null,
   "id": "917a02a2",
   "metadata": {},
   "outputs": [],
   "source": [
    "erd = dj.ERD(epi_schema)\n",
    "erd"
   ]
  }
 ],
 "metadata": {
  "kernelspec": {
   "display_name": "Python 3 (ipykernel)",
   "language": "python",
   "name": "python3"
  },
  "language_info": {
   "codemirror_mode": {
    "name": "ipython",
    "version": 3
   },
   "file_extension": ".py",
   "mimetype": "text/x-python",
   "name": "python",
   "nbconvert_exporter": "python",
   "pygments_lexer": "ipython3",
   "version": "3.9.18"
  }
 },
 "nbformat": 4,
 "nbformat_minor": 5
}
