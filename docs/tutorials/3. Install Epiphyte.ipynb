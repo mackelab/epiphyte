{
 "cells": [
  {
   "cell_type": "markdown",
   "metadata": {},
   "source": [
    "# Tutorial: Install and set up Epiphyte "
   ]
  },
  {
   "cell_type": "markdown",
   "metadata": {},
   "source": [
    "### **Requirements:** \n",
    "\n",
    "* either a configured VM (tutorial 1) or local machine running Linux\n",
    "* 400 MB free disk space\n",
    "* Python 3 and Anaconda (or Miniconda)"
   ]
  },
  {
   "cell_type": "markdown",
   "metadata": {},
   "source": [
    "Note: if using Windows, we highly recommended using VS Code for this tutorial.\n",
    "\n",
    "Once your MySQL database (and your optional additional storage) is configured, you're ready to install and set up Epiphyte!\n",
    "\n",
    "The database can be defined and structured remotely from a client computer, separate from where the database is hosted (e.g. on a remote server or virtual machine). This means you can install and configure Epiphyte on a separate computer (e.g., a workstation or personal laptop), while gaining the power and storage capacity of an external server. A schematic of this arrangement is given below:"
   ]
  },
  {
   "cell_type": "markdown",
   "metadata": {},
   "source": [
    "![Infrastructure diagram](../reference/infrastructure_diagram.png){ .img-center .w-600 }\n"
   ]
  },
  {
   "cell_type": "markdown",
   "metadata": {},
   "source": [
    "Here, the VM (configured by you, the `dev` user) hosts the database, while the codebase controls and populates it with data. Once you install and configure Epiphyte, it's possible to directly interact with the remotely-hosted database from your PC or workstation. \n",
    "\n",
    "In this tutorial we'll go through how to install and set up Epiphyte on your PC, workstation, or whichever machine you'll use for interacting with the data. \n",
    "\n",
    "There are two ways to install Epiphyte: either via `pip` or by cloning the GitHub repository. We'll cover both methods, but if you already cloned the repo and are going through the tutorials locally, skip to that section. \n",
    "\n",
    "-----------"
   ]
  },
  {
   "cell_type": "markdown",
   "metadata": {},
   "source": [
    "## Installing Epiphyte via `pip`"
   ]
  },
  {
   "cell_type": "markdown",
   "metadata": {},
   "source": [
    "Create a new `conda` environment suitable for the Epiphyte requirements:"
   ]
  },
  {
   "cell_type": "markdown",
   "metadata": {},
   "source": [
    "<pre style=\"background-color: #1E1E1E; color: white; padding: 10px; border-radius: 5px; border-left: 5px solid #007bff;\">\n",
    "conda create --name epiphyte python=3.9.18 ipython\n",
    "</pre>"
   ]
  },
  {
   "cell_type": "markdown",
   "metadata": {},
   "source": [
    "Activate the conda environment and install Epiphyte:"
   ]
  },
  {
   "cell_type": "markdown",
   "metadata": {},
   "source": [
    "\n",
    "<pre style=\"background-color: #1E1E1E; color: white; padding: 10px; border-radius: 5px; border-left: 5px solid #007bff;\">\n",
    "conda activate epiphyte\n",
    "pip install epiphyte\n",
    "</pre>"
   ]
  },
  {
   "cell_type": "markdown",
   "metadata": {},
   "source": [
    "## Installing Epiphyte via `git`"
   ]
  },
  {
   "cell_type": "markdown",
   "metadata": {},
   "source": [
    "Clone [the repository](https://github.com/mackelab/epiphyte), and change your directory to the repository: \n",
    "\n",
    "<pre style=\"background-color: #1E1E1E; color: white; padding: 10px; border-radius: 5px; border-left: 5px solid #007bff;\">\n",
    "git clone git@github.com:mackelab/epiphyte.git\n",
    "cd epiphyte\n",
    "</pre>"
   ]
  },
  {
   "cell_type": "markdown",
   "metadata": {},
   "source": [
    "Create a new `conda` environment suitable for the Epiphyte requirements:\n",
    "\n",
    "<pre style=\"background-color: #1E1E1E; color: white; padding: 10px; border-radius: 5px; border-left: 5px solid #007bff;\">\n",
    "conda create --name epiphyte python=3.9.18 ipython\n",
    "</pre>"
   ]
  },
  {
   "cell_type": "markdown",
   "metadata": {},
   "source": [
    "Activate the `conda` environment and install the dependencies:\n",
    "\n",
    "<pre style=\"background-color: #1E1E1E; color: white; padding: 10px; border-radius: 5px; border-left: 5px solid #007bff;\">\n",
    "conda activate epiphyte\n",
    "pip install -e .\n",
    "</pre>"
   ]
  },
  {
   "cell_type": "markdown",
   "metadata": {},
   "source": [
    "Verify the installation:\n",
    "\n",
    "<pre style=\"background-color: #1E1E1E; color: white; padding: 10px; border-radius: 5px; border-left: 5px solid #007bff;\">\n",
    "conda list\n",
    "</pre>"
   ]
  }
 ],
 "metadata": {
  "kernelspec": {
   "display_name": "Python 3 (ipykernel)",
   "language": "python",
   "name": "python3"
  },
  "language_info": {
   "codemirror_mode": {
    "name": "ipython",
    "version": 3
   },
   "file_extension": ".py",
   "mimetype": "text/x-python",
   "name": "python",
   "nbconvert_exporter": "python",
   "pygments_lexer": "ipython3",
   "version": "3.8.10"
  }
 },
 "nbformat": 4,
 "nbformat_minor": 2
}
