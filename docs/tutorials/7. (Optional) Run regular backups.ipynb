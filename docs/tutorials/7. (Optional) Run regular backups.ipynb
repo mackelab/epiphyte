{
 "cells": [
  {
   "cell_type": "markdown",
   "id": "49d73257",
   "metadata": {},
   "source": [
    "# Tutorial: Run regular backups "
   ]
  },
  {
   "cell_type": "markdown",
   "id": "91dfb189",
   "metadata": {},
   "source": [
    "### **Requirements:** \n",
    "\n",
    "* data stored in your database (and/or MinIO). "
   ]
  },
  {
   "cell_type": "markdown",
   "id": "7c4c1b13",
   "metadata": {},
   "source": [
    "We call this tutorial \"optional\" because the methods described here are optional—there are many different ways you can configure regular backups, and at this point your database should be fully functional, which was the main goal of this tutorial series. \n",
    "\n",
    "That being said, **you should consider regular backups an essential part of having a database!**\n",
    "\n",
    "-----------"
   ]
  },
  {
   "cell_type": "markdown",
   "id": "e09fb2a5",
   "metadata": {},
   "source": [
    "## 1. Create a config file with your MySQL credentials"
   ]
  },
  {
   "cell_type": "markdown",
   "id": "6919c6f8",
   "metadata": {},
   "source": [
    "You shouldn't save your MySQL credentials directly in your backup script, as this can pose a security risk. Instead, we'll make a separate config file to save your credentials, and then restrict access to the root user only. \n",
    "\n",
    "Create a config file called `.my.cnf`:"
   ]
  },
  {
   "cell_type": "markdown",
   "id": "594aff77",
   "metadata": {},
   "source": [
    "<pre style=\"background-color: #1E1E1E; color: white; padding: 10px; border-radius: 5px; border-left: 5px solid #007bff;\">\n",
    "touch .my.cnf\n",
    "sudo nano .my.cnf\n",
    "</pre>"
   ]
  },
  {
   "cell_type": "markdown",
   "id": "130812e6",
   "metadata": {},
   "source": [
    "Now add your data to that file: "
   ]
  },
  {
   "cell_type": "markdown",
   "id": "7a58af54",
   "metadata": {},
   "source": [
    "<pre style=\"background-color: #1E1E1E; color: white; padding: 10px; border-radius: 5px; border-left: 5px solid #007bff;\">\n",
    "bash\n",
    "# needed for dump\n",
    "[mysqldump]\n",
    "user = root\n",
    "password = &lt;password&gt;\n",
    "\n",
    "# needed for restore\n",
    "[mysql]\n",
    "user = root\n",
    "password = &lt;password&gt;\n",
    "</pre>"
   ]
  },
  {
   "cell_type": "markdown",
   "id": "113ca1a1",
   "metadata": {},
   "source": [
    "Be sure to change the file's permissions to restrict access to the root user only:"
   ]
  },
  {
   "cell_type": "markdown",
   "id": "af9a8980",
   "metadata": {},
   "source": [
    "<pre style=\"background-color: #1E1E1E; color: white; padding: 10px; border-radius: 5px; border-left: 5px solid #007bff;\">\n",
    "chmod 600 .my.cnf\n",
    "</pre>"
   ]
  },
  {
   "cell_type": "markdown",
   "id": "0b5dd511",
   "metadata": {},
   "source": [
    "## 2. Write your backup script"
   ]
  },
  {
   "cell_type": "markdown",
   "id": "2ba39370",
   "metadata": {},
   "source": [
    "Create a shell script `backup.sh`:"
   ]
  },
  {
   "cell_type": "markdown",
   "id": "e80a96fe",
   "metadata": {},
   "source": [
    "<pre style=\"background-color: #1E1E1E; color: white; padding: 10px; border-radius: 5px; border-left: 5px solid #007bff;\">\n",
    "touch backup.sh\n",
    "sudo nano backup.sh\n",
    "</pre>"
   ]
  },
  {
   "cell_type": "markdown",
   "id": "fffd07b4",
   "metadata": {},
   "source": [
    "Add the following lines to your script. **Be sure to update the paths accordingly** (for finding your config file, and where you want to send the backup to). Ideally you should send your backups to a separate piece of hardware than where your database is running, or store them in the cloud."
   ]
  },
  {
   "cell_type": "markdown",
   "id": "0d972234",
   "metadata": {},
   "source": [
    "<pre style=\"background-color: #1E1E1E; color: white; padding: 10px; border-radius: 5px; border-left: 5px solid #007bff;\">\n",
    "#!/bin/bash\n",
    "\n",
    "# Update paths accordingly in the following lines:\n",
    "# --defaults-extra-file=~/path/to/config_file\n",
    "# > ~/destination/file/for/backups\n",
    "echo \"$(date -u +\\%H:\\%M) Dumping database...\"\n",
    "mysqldump --defaults-extra-file=~/path/to/config_file/.my.cnf -h 127.0.0.1 -u root --column-statistics=0 --all-databases --skip-triggers > ~/destiantion/file/for/backups/mysql_backup_$(date -u +\\%FT\\%H\\%MZ).sql\n",
    "\n",
    "# Removes backups older than 30 days\n",
    "echo \"$(date -u +\\%H:\\%M) Deleting old dumps...\"\n",
    "find ~/backups/mysql/* -mtime +30 -exec rm {} \\;\n",
    "\n",
    "echo \"MySQL backup is finished!\"\n",
    "</pre>"
   ]
  },
  {
   "cell_type": "markdown",
   "id": "5fa81ace",
   "metadata": {},
   "source": [
    "If you're storing data on MinIO as well, you can add the following lines to backup your MinIO data using `rsync` (sample file paths are given, be sure to again **update file paths accordingly**):"
   ]
  },
  {
   "cell_type": "markdown",
   "id": "338e4f0d",
   "metadata": {},
   "source": [
    "<pre style=\"background-color: #1E1E1E; color: white; padding: 10px; border-radius: 5px; border-left: 5px solid #007bff;\">\n",
    "# Syncs everything from bulk-minio to backup\n",
    "# -q: does syncronizing quietly (only error outputs will be shown)\n",
    "echo \"$(date -u +\\%H:\\%M) Archiving MinIO...\"\n",
    "rsync -a ~/minio ~/backups/minio/minio_backup_$(date -u +\\%FT\\%H\\%MZ) -q\n",
    "\n",
    "# Removes backups older than 30 days\n",
    "echo \"$(date -u +\\%H:\\%M) Deleting old archieves...\"\n",
    "find ~/backups/minio/* -maxdepth 1  -mtime +30 -exec rm -r \"{}\" \\;\n",
    "\n",
    "echo \"MinIO backup is finished!\"\n",
    "</pre>"
   ]
  },
  {
   "cell_type": "markdown",
   "id": "1ecaa0d2",
   "metadata": {},
   "source": [
    "## 3. Schedule your backups with a cron job"
   ]
  },
  {
   "cell_type": "markdown",
   "id": "d48b9c1e",
   "metadata": {},
   "source": [
    "A \"cron job\" is a scheduled task used in Unix and Unix-like operating systems to automate the execution of scripts at specified times or intervals. We'll set up a cron job to run backups at 1 a.m. server time."
   ]
  },
  {
   "cell_type": "markdown",
   "id": "8c9d1746",
   "metadata": {},
   "source": [
    "Edit a new crontab:"
   ]
  },
  {
   "cell_type": "markdown",
   "id": "d01279b4",
   "metadata": {},
   "source": [
    "<pre style=\"background-color: #1E1E1E; color: white; padding: 10px; border-radius: 5px; border-left: 5px solid #007bff;\">\n",
    "crontab -e\n",
    "</pre>"
   ]
  },
  {
   "cell_type": "markdown",
   "id": "b4d97095",
   "metadata": {},
   "source": [
    "Add the following lines to the crontab and **update the path to your backup script accordingly**: "
   ]
  },
  {
   "cell_type": "markdown",
   "id": "f401d89d",
   "metadata": {},
   "source": [
    "<pre style=\"background-color: #1E1E1E; color: white; padding: 10px; border-radius: 5px; border-left: 5px solid #007bff;\">\n",
    "bash\n",
    "0 1 * * * /bin/bash ~/path/to/backup/script/backup.sh >/dev/null 2>&1\n",
    "</pre>"
   ]
  },
  {
   "cell_type": "markdown",
   "id": "92affb40",
   "metadata": {},
   "source": [
    "Whenever a crontab has been edited successfully `crontab: installing new crontab` will pop up.\n",
    "\n",
    "You can check the status of your crontab via `crontab -l`.\n",
    "\n",
    "Your backups should now be good to go!"
   ]
  }
 ],
 "metadata": {
  "kernelspec": {
   "display_name": "Python 3 (ipykernel)",
   "language": "python",
   "name": "python3"
  },
  "language_info": {
   "codemirror_mode": {
    "name": "ipython",
    "version": 3
   },
   "file_extension": ".py",
   "mimetype": "text/x-python",
   "name": "python",
   "nbconvert_exporter": "python",
   "pygments_lexer": "ipython3",
   "version": "3.8.10"
  }
 },
 "nbformat": 4,
 "nbformat_minor": 5
}
